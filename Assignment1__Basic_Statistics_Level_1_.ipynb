{
  "nbformat": 4,
  "nbformat_minor": 0,
  "metadata": {
    "colab": {
      "provenance": []
    },
    "kernelspec": {
      "name": "python3",
      "display_name": "Python 3"
    },
    "language_info": {
      "name": "python"
    }
  },
  "cells": [
    {
      "cell_type": "markdown",
      "source": [
        "**Q7) Calculate Mean, Median, Mode, Variance, Standard Deviation, Range &     comment about the values / draw inferences, for the given dataset**\n",
        "-\tFor Points,Score,Weigh>\n",
        "Find Mean, Median, Mode, Variance, Standard Deviation, and Range and also Comment about the values/ Draw some inferences. "
      ],
      "metadata": {
        "id": "VXLgMNJaicqw"
      }
    },
    {
      "cell_type": "code",
      "source": [
        "#Import libraries\n",
        "import numpy as np\n",
        "import pandas as pd\n",
        "import matplotlib.pyplot as plt"
      ],
      "metadata": {
        "id": "2hdDK2W-0djY"
      },
      "execution_count": null,
      "outputs": []
    },
    {
      "cell_type": "code",
      "source": [
        "#Load the dataset\n",
        "data = pd.read_csv('/content/Q7.csv')\n",
        "data"
      ],
      "metadata": {
        "id": "Kzovz1r330oI"
      },
      "execution_count": null,
      "outputs": []
    },
    {
      "cell_type": "code",
      "source": [
        "#Calculate Mean\n",
        "data.mean()"
      ],
      "metadata": {
        "id": "-b1vYCYw4E5n"
      },
      "execution_count": null,
      "outputs": []
    },
    {
      "cell_type": "code",
      "source": [
        "#Calculate Median\n",
        "print(data.median())"
      ],
      "metadata": {
        "id": "HtZWQpmvi7aU"
      },
      "execution_count": null,
      "outputs": []
    },
    {
      "cell_type": "code",
      "source": [
        "#Calculate Mode\n",
        "print(data.Points.mode())           #Mode for Points column\n",
        "print(data.Score.mode())            #Mode for Score column\n",
        "print(data.Weigh.mode())            #Mode for Weigh column"
      ],
      "metadata": {
        "id": "5bwpaYt3QpmK"
      },
      "execution_count": null,
      "outputs": []
    },
    {
      "cell_type": "code",
      "source": [
        "#Calculate Variance\n",
        "print(data.var())"
      ],
      "metadata": {
        "id": "HOfi64MZQ1H0"
      },
      "execution_count": null,
      "outputs": []
    },
    {
      "cell_type": "code",
      "source": [
        "#Calculate Standard Deviation\n",
        "print(data.std())"
      ],
      "metadata": {
        "id": "EHSBFzPRY2zT"
      },
      "execution_count": null,
      "outputs": []
    },
    {
      "cell_type": "code",
      "source": [
        "data.describe()"
      ],
      "metadata": {
        "id": "E-qTBw_Lav46"
      },
      "execution_count": null,
      "outputs": []
    },
    {
      "cell_type": "code",
      "source": [
        "#Calculate Range\n",
        "\n",
        "points_range = data.Points.max() - data.Points.min()\n",
        "score_range = data.Score.max() - data.Score.min()\n",
        "weigh_range = data.Weigh.max() - data.Weigh.min()\n",
        "print('Points Range:',points_range)\n",
        "print('Score Range:',score_range)\n",
        "print('Weigh Range',weigh_range)"
      ],
      "metadata": {
        "id": "sb6LsWOPZORO"
      },
      "execution_count": null,
      "outputs": []
    },
    {
      "cell_type": "code",
      "source": [
        "fig, ax = plt.subplots(figsize=(15,5))\n",
        "plt.suptitle('Car_Details',size='15')\n",
        "plt.subplot(1,3,1)\n",
        "plt.boxplot(data.Points)\n",
        "plt.title('Points')\n",
        "\n",
        "plt.subplot(1,3,2)\n",
        "plt.boxplot(data.Score)\n",
        "plt.title('Score')\n",
        "\n",
        "plt.subplot(1,3,3)\n",
        "plt.boxplot(data.Weigh)\n",
        "plt.title('Weigh')\n",
        "\n",
        "plt.show()"
      ],
      "metadata": {
        "id": "k0j0PS9MbEHp"
      },
      "execution_count": null,
      "outputs": []
    },
    {
      "cell_type": "markdown",
      "source": [
        "**Q9_a) Calculate Skewness, Kurtosis & draw inferences on the following data**\n",
        "**Cars speed and distance**\n"
      ],
      "metadata": {
        "id": "dxAiVJmMis2F"
      }
    },
    {
      "cell_type": "code",
      "source": [
        "#Import libraries\n",
        "import statistics\n",
        "import numpy as np\n",
        "\n",
        "#Load the dataset\n",
        "data = pd.read_csv('/content/Q9_a.csv')\n",
        "data.head()\n"
      ],
      "metadata": {
        "id": "TjRVIRfEc0sg"
      },
      "execution_count": null,
      "outputs": []
    },
    {
      "cell_type": "code",
      "source": [
        "#Calculate Skewness\n",
        "data.skew()"
      ],
      "metadata": {
        "id": "Cp3X-f4SseQc"
      },
      "execution_count": null,
      "outputs": []
    },
    {
      "cell_type": "code",
      "source": [
        "#Calculate Kurtosis\n",
        "data.kurt()"
      ],
      "metadata": {
        "id": "Y82Rzr7Nt7DS"
      },
      "execution_count": null,
      "outputs": []
    },
    {
      "cell_type": "markdown",
      "source": [
        "**Q9_b) Calculate Skewness, Kurtosis & draw inferences on the following data** **SP and Weight(WT)**"
      ],
      "metadata": {
        "id": "mwOQW1x4u6Kc"
      }
    },
    {
      "cell_type": "code",
      "source": [
        "#IMport libraries\n",
        "import statistics\n",
        "import pandas as pd\n",
        "\n",
        "#Load the dataset\n",
        "data = pd.read_csv('/content/Q9_b.csv')\n",
        "data.head()"
      ],
      "metadata": {
        "id": "feEKMELzuGil"
      },
      "execution_count": null,
      "outputs": []
    },
    {
      "cell_type": "code",
      "source": [
        "#Calculate Skewness\n",
        "data.skew()"
      ],
      "metadata": {
        "id": "W8gSfyenvVzE"
      },
      "execution_count": null,
      "outputs": []
    },
    {
      "cell_type": "code",
      "source": [
        "#Calculate Kurtosis\n",
        "data.kurt()"
      ],
      "metadata": {
        "id": "NdAhKzvEflyB"
      },
      "execution_count": null,
      "outputs": []
    },
    {
      "cell_type": "markdown",
      "source": [
        "\n",
        "**Q11) Suppose we want to estimate the average weight of an adult male in    Mexico. We draw a random sample of 2,000 men from a population of 3,000,000 men and weigh them. We find that the average person in our sample weighs 200 pounds, and the standard deviation of the sample is 30 pounds. Calculate 94%,98%,96% confidence interval?**"
      ],
      "metadata": {
        "id": "ywJf72u62IsD"
      }
    },
    {
      "cell_type": "code",
      "source": [
        "#Import libraries\n",
        "from scipy import stats\n",
        "from scipy.stats import norm"
      ],
      "metadata": {
        "id": "hzum9Yi8nhs2"
      },
      "execution_count": null,
      "outputs": []
    },
    {
      "cell_type": "code",
      "source": [
        "# Average weight of an adult in Mexico with 94% confidance interval:\n",
        "stats.norm.interval(0.94,200,30/(2000**0.5))"
      ],
      "metadata": {
        "id": "oK8PvsJG21wz"
      },
      "execution_count": null,
      "outputs": []
    },
    {
      "cell_type": "code",
      "source": [
        "# Average weight of an adult in Mexico with 98% confidance interval:\n",
        "stats.norm.interval(0.98,200,30/(2000**0.5))"
      ],
      "metadata": {
        "id": "BP3Lk5tf3p_g"
      },
      "execution_count": null,
      "outputs": []
    },
    {
      "cell_type": "code",
      "source": [
        "# Average weight of an adult in Mexico with 96% confidance interval:\n",
        "stats.norm.interval(0.96,200,30/(2000**0.5))"
      ],
      "metadata": {
        "id": "QkR7DI1g4JoT"
      },
      "execution_count": null,
      "outputs": []
    },
    {
      "cell_type": "markdown",
      "source": [
        "**Q12) Below are the scores obtained by a student in tests**\n",
        "\n",
        "34,36,36,38,38,39,39,40,40,41,41,41,41,42,42,45,49,56 \n",
        "\n",
        "**1)Find mean,median,variance,standard deviation.**\n",
        "\n",
        "**2)What can we say about the student marks?**"
      ],
      "metadata": {
        "id": "vUg74W-34esi"
      }
    },
    {
      "cell_type": "code",
      "source": [
        "#Import libraries\n",
        "import pandas as pd\n",
        "import matplotlib.pyplot as plt\n",
        "\n",
        "data = pd.Series([34,36,36,38,38,39,39,40,40,41,41,41,41,42,42,45,49,56])"
      ],
      "metadata": {
        "id": "GHqa9qlV4QKc"
      },
      "execution_count": null,
      "outputs": []
    },
    {
      "cell_type": "code",
      "source": [
        "data.mean()       #Mean"
      ],
      "metadata": {
        "id": "JycYC3b86R0y"
      },
      "execution_count": null,
      "outputs": []
    },
    {
      "cell_type": "code",
      "source": [
        "data.median()     #Median"
      ],
      "metadata": {
        "id": "GY_iqTct6rgU"
      },
      "execution_count": null,
      "outputs": []
    },
    {
      "cell_type": "code",
      "source": [
        "data.var()        #Variance"
      ],
      "metadata": {
        "id": "Gv-kMMmz7BOE"
      },
      "execution_count": null,
      "outputs": []
    },
    {
      "cell_type": "code",
      "source": [
        "data.std()        #Standard Deviation"
      ],
      "metadata": {
        "id": "zvpi6cow7Fre"
      },
      "execution_count": null,
      "outputs": []
    },
    {
      "cell_type": "code",
      "source": [
        "plt.boxplot(data)\n",
        "plt.show()"
      ],
      "metadata": {
        "id": "gQoRiWro7K8e"
      },
      "execution_count": null,
      "outputs": []
    },
    {
      "cell_type": "markdown",
      "source": [
        "**Q 20) Calculate probability from the given dataset for the below cases**\n",
        "\n",
        "      Data _set: Cars.csv\n",
        "\n",
        "**Calculate the probability of MPG  of Cars for the below cases**.\n",
        "\n",
        "MPG<- Cars$MPG\n",
        "\n",
        "a.\tP(MPG>38)\n",
        "b.\tP(MPG<40)\n",
        "c.  P(20<MPG<50)"
      ],
      "metadata": {
        "id": "Oj2Vs0qg4Klz"
      }
    },
    {
      "cell_type": "code",
      "source": [
        "#Import libraries\n",
        "import pandas as pd\n",
        "import numpy as np \n",
        "import seaborn as sns\n",
        "import matplotlib.pyplot as plt\n",
        "from scipy import stats\n",
        "from scipy.stats import norm\n",
        "\n",
        "cars_data = pd.read_csv('/content/Cars.csv')\n",
        "cars_data"
      ],
      "metadata": {
        "id": "5sAtBVuN7u0M"
      },
      "execution_count": null,
      "outputs": []
    },
    {
      "cell_type": "code",
      "source": [
        "sns.boxplot(cars_data.MPG)\n",
        "plt.show()"
      ],
      "metadata": {
        "id": "M9T1WtcT4xh_"
      },
      "execution_count": null,
      "outputs": []
    },
    {
      "cell_type": "code",
      "source": [
        "#p(MPG>38)\n",
        "1-stats.norm.cdf(38,cars_data.MPG.mean(),cars_data.MPG.std())"
      ],
      "metadata": {
        "id": "3k36yAGG57A5"
      },
      "execution_count": null,
      "outputs": []
    },
    {
      "cell_type": "code",
      "source": [
        "#p(MPG>40)\n",
        "stats.norm.cdf(40,cars_data.MPG.mean(),cars_data.MPG.std())"
      ],
      "metadata": {
        "id": "2zIMZQQw693F"
      },
      "execution_count": null,
      "outputs": []
    },
    {
      "cell_type": "code",
      "source": [
        "#p(20<MPG>50)\n",
        "stats.norm.cdf(0.50,cars_data.MPG.mean(),cars_data.MPG.std())-stats.norm.cdf(0.20,cars_data.MPG.mean(),cars_data.MPG.std())"
      ],
      "metadata": {
        "id": "w3V1EceY7KAx"
      },
      "execution_count": null,
      "outputs": []
    },
    {
      "cell_type": "markdown",
      "source": [
        "**Q21) Check whether the data follows normal distribution**\n",
        "\n",
        "**a)\tCheck whether the MPG of Cars follows Normal Distribution**\n",
        "\n",
        "        Dataset: Cars.csv\n"
      ],
      "metadata": {
        "id": "Q5yvKBaC8OOl"
      }
    },
    {
      "cell_type": "code",
      "source": [
        "#Import libraries\n",
        "import numpy as np\n",
        "import pandas as pd\n",
        "import matplotlib.pyplot as plt\n",
        "import seaborn as sns\n",
        "%matplotlib inline"
      ],
      "metadata": {
        "id": "BG2IH3TG7hwF"
      },
      "execution_count": null,
      "outputs": []
    },
    {
      "cell_type": "code",
      "source": [
        "#Load the dataset\n",
        "cars = pd.read_csv('/content/Cars.csv')\n",
        "cars"
      ],
      "metadata": {
        "id": "lhNwzP7Q9cf9"
      },
      "execution_count": null,
      "outputs": []
    },
    {
      "cell_type": "code",
      "source": [
        "sns.distplot(cars.MPG, label='Cars-MPG')\n",
        "plt.legend()\n",
        "plt.show()"
      ],
      "metadata": {
        "id": "B1ASmTQv9nes"
      },
      "execution_count": null,
      "outputs": []
    },
    {
      "cell_type": "code",
      "source": [
        "print('Mean:',cars.MPG.mean())\n",
        "print('Median:',cars.MPG.median())"
      ],
      "metadata": {
        "id": "qrMkeyhE-Wo2"
      },
      "execution_count": null,
      "outputs": []
    },
    {
      "cell_type": "markdown",
      "source": [
        "Observation : From above plot we can say that the data is normally distributed."
      ],
      "metadata": {
        "id": "H9QlHdOaRP1h"
      }
    },
    {
      "cell_type": "markdown",
      "source": [
        "**b)\tCheck Whether the Adipose Tissue (AT) and Waist Circumference(Waist)  from wc-at data set  follows Normal Distribution** \n",
        "\n",
        "       Dataset: wc-at.csv\n"
      ],
      "metadata": {
        "id": "gPoq0iocRqTb"
      }
    },
    {
      "cell_type": "code",
      "source": [
        "#Import libraries\n",
        "import numpy as np\n",
        "import pandas as pd\n",
        "import matplotlib.pyplot as plt\n",
        "import seaborn as sns\n",
        "%matplotlib inline"
      ],
      "metadata": {
        "id": "DLn2BVDuQ8q3"
      },
      "execution_count": null,
      "outputs": []
    },
    {
      "cell_type": "code",
      "source": [
        "#Load the dataset\n",
        "wc_at = pd.read_csv('/content/wc-at.csv')\n",
        "wc_at"
      ],
      "metadata": {
        "id": "GFWFBJdkT8YV"
      },
      "execution_count": null,
      "outputs": []
    },
    {
      "cell_type": "code",
      "source": [
        "sns.distplot(wc_at.Waist, label='Waist')\n",
        "plt.legend()\n",
        "plt.show()"
      ],
      "metadata": {
        "id": "GUZEer2jUH7c"
      },
      "execution_count": null,
      "outputs": []
    },
    {
      "cell_type": "code",
      "source": [
        "sns.distplot(wc_at.AT, label='AT')\n",
        "plt.legend()\n",
        "plt.show()"
      ],
      "metadata": {
        "id": "iwdMIQ7iV1aB"
      },
      "execution_count": null,
      "outputs": []
    },
    {
      "cell_type": "code",
      "source": [
        "print('Mean:',wc_at.mean())\n",
        "print('Median:',wc_at.median())"
      ],
      "metadata": {
        "id": "ZGLCyejnVHBd"
      },
      "execution_count": null,
      "outputs": []
    },
    {
      "cell_type": "code",
      "source": [
        "sns.boxplot(wc_at['Waist'])\n",
        "plt.show()\n",
        "\n",
        "## OBSERVATIONS:\n",
        "# Mean > Median, Data is fairly symmetrical.\n",
        "# Whiskers at both side are of same lenght."
      ],
      "metadata": {
        "id": "3e7WLDK8VRf5"
      },
      "execution_count": null,
      "outputs": []
    },
    {
      "cell_type": "code",
      "source": [
        "sns.boxplot(wc_at['AT'])\n",
        "plt.show()\n",
        "\n",
        "## OBSERVATIONS:\n",
        "# Mean > Median , Data is positively skewed.\n",
        "# Right whisker is greater than left whisker."
      ],
      "metadata": {
        "id": "TQxfaCAFWd2b"
      },
      "execution_count": null,
      "outputs": []
    },
    {
      "cell_type": "markdown",
      "source": [
        "**Q 22) Calculate the Z scores of  90% confidence interval,94% confidence interval, 60% confidence interval .**"
      ],
      "metadata": {
        "id": "LqQ3qG7sa-Qx"
      }
    },
    {
      "cell_type": "code",
      "source": [
        "from scipy import stats\n",
        "from scipy.stats import norm\n",
        "\n",
        "# Z scores of 90% Confidance Interval\n",
        "stats.norm.ppf(0.95)            \n",
        "\n",
        "# CI = 0.90    #Confidance interval\n",
        "#alpha = 1 - CI    i.s. 1-0.90 = 0.09\n",
        "#tail = 2         # 2 tailed test\n",
        "#Q = 1 - (alpha/tail)  i.s. 1 - (0.09/2) = 0.95'''"
      ],
      "metadata": {
        "id": "-2gO-avqWmE1"
      },
      "execution_count": null,
      "outputs": []
    },
    {
      "cell_type": "code",
      "source": [
        "# Z scores of 94% Confidance Interval\n",
        "stats.norm.ppf(0.97)"
      ],
      "metadata": {
        "id": "Xx2O-cusb1P3"
      },
      "execution_count": null,
      "outputs": []
    },
    {
      "cell_type": "code",
      "source": [
        "# Z scores of 60% Confidance Interval\n",
        "stats.norm.ppf(0.8)"
      ],
      "metadata": {
        "id": "1s3e-kjllo6H"
      },
      "execution_count": null,
      "outputs": []
    },
    {
      "cell_type": "markdown",
      "source": [
        "**Q 23) Calculate the t scores of 95% confidence interval, 96% confidence interval, 99% confidence interval for sample size of 25**"
      ],
      "metadata": {
        "id": "rDI18sfKp_dG"
      }
    },
    {
      "cell_type": "code",
      "source": [
        "from scipy import stats\n",
        "from scipy.stats import norm\n",
        "\n",
        "# t-score of 95% confidance interval for sample size of 25\n",
        "stats.t.ppf(0.975, df = 24)     #df = n-1 = 25-1 i.e. 24\n"
      ],
      "metadata": {
        "id": "S30LdQcvmgem"
      },
      "execution_count": null,
      "outputs": []
    },
    {
      "cell_type": "code",
      "source": [
        "# t-score of 96% confidance interval for sample size of 25\n",
        "stats.t.ppf(0.98, df = 24)     #df = n-1 = 25-1 i.e. 24"
      ],
      "metadata": {
        "id": "3q0MFtzT92oQ"
      },
      "execution_count": null,
      "outputs": []
    },
    {
      "cell_type": "code",
      "source": [
        "# t-score of 99% confidance interval for sample size of 25\n",
        "stats.t.ppf(0.995, df = 24)     #df = n-1 = 25-1 i.e. 24"
      ],
      "metadata": {
        "id": "tez06iZm_I71"
      },
      "execution_count": null,
      "outputs": []
    },
    {
      "cell_type": "markdown",
      "source": [
        " **Q 24)A Government  companyclaims that an average light bulb lasts 270 days. A researcher randomly selects 18 bulbs for testing. The sampled bulbs last an average of 260 days, with a standard deviation of 90 days. If the CEO's claim were true, what is the probability that 18 randomly selected bulbs would have an average life of no more than 260 days**\n",
        "\n",
        "Hint: \n",
        "\n",
        "rcode : pt(tscore,df)  \n",
        "\n",
        "df : degrees of freedom\n",
        "\n"
      ],
      "metadata": {
        "id": "Btna_RoPGAFH"
      }
    },
    {
      "cell_type": "code",
      "source": [
        "from scipy import stats\n",
        "from scipy.stats import norm\n",
        "\n",
        "#Assume:\n",
        "#Null Hypothesis: Ho = Average life of bulb >= 260 days\n",
        "#Alternative Hypothesis : Ha = Average life of bulb < 260 days"
      ],
      "metadata": {
        "id": "BFv9GB2U_lal"
      },
      "execution_count": null,
      "outputs": []
    },
    {
      "cell_type": "code",
      "source": [
        "# t-score at x = 260\n",
        "\n",
        "t_score = (260-270)/(90/18**0.5)       #sample_mean = 260, sample standard deviation = 90, n(sample size) = 18\n",
        "print(t_score)"
      ],
      "metadata": {
        "id": "EKGFZzHnkgfB"
      },
      "execution_count": null,
      "outputs": []
    }
  ]
}